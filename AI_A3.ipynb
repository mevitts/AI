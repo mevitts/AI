{
  "cells": [
    {
      "cell_type": "code",
      "execution_count": 1,
      "metadata": {
        "colab": {
          "base_uri": "https://localhost:8080/"
        },
        "id": "JjaVLzg9I3E5",
        "outputId": "434ffc3b-f7c6-4a4c-cf8b-439172cb0feb"
      },
      "outputs": [
        {
          "output_type": "stream",
          "name": "stdout",
          "text": [
            "Downloading from https://www.kaggle.com/api/v1/datasets/download/PromptCloudHQ/imdb-data?dataset_version_number=1...\n"
          ]
        },
        {
          "output_type": "stream",
          "name": "stderr",
          "text": [
            "100%|██████████| 134k/134k [00:00<00:00, 25.5MB/s]"
          ]
        },
        {
          "output_type": "stream",
          "name": "stdout",
          "text": [
            "Extracting files...\n",
            "Path to dataset files: /root/.cache/kagglehub/datasets/PromptCloudHQ/imdb-data/versions/1\n",
            "Files in dataset directory: ['IMDB-Movie-Data.csv']\n",
            "Index(['Rank', 'Title', 'Genre', 'Description', 'Director', 'Actors', 'Year',\n",
            "       'Runtime (Minutes)', 'Rating', 'Votes', 'Revenue (Millions)',\n",
            "       'Metascore'],\n",
            "      dtype='object')\n",
            "Prometheus\n",
            "Adventure,Mystery,Sci-Fi\n",
            "Following clues to the origin of mankind, a team finds a structure on a distant moon, but they soon realize they are not alone.\n"
          ]
        },
        {
          "output_type": "stream",
          "name": "stderr",
          "text": [
            "\n"
          ]
        }
      ],
      "source": [
        "import os\n",
        "import kagglehub\n",
        "import pandas as pd\n",
        "\n",
        "\n",
        "path = kagglehub.dataset_download(\"PromptCloudHQ/imdb-data\")\n",
        "print(\"Path to dataset files:\", path)\n",
        "files = os.listdir(path)\n",
        "print(\"Files in dataset directory:\", files)\n",
        "csv_file_path = os.path.join(path, 'IMDB-Movie-Data.csv')\n",
        "#Replace with the actual filename\n",
        "data = pd.read_csv(csv_file_path)\n",
        "print(data.columns)\n",
        "print(data['Title'][1])\n",
        "print(data['Genre'][1])\n",
        "print(data['Description'][1])\n"
      ]
    },
    {
      "cell_type": "code",
      "execution_count": 8,
      "metadata": {
        "colab": {
          "base_uri": "https://localhost:8080/"
        },
        "id": "cbLk6G5zLdp7",
        "outputId": "5b089359-f95b-4c5e-8ea8-982dd03f54bb"
      },
      "outputs": [
        {
          "output_type": "stream",
          "name": "stderr",
          "text": [
            "[nltk_data] Downloading package punkt to /root/nltk_data...\n",
            "[nltk_data]   Package punkt is already up-to-date!\n",
            "[nltk_data] Downloading package punkt_tab to /root/nltk_data...\n",
            "[nltk_data]   Unzipping tokenizers/punkt_tab.zip.\n",
            "[nltk_data] Downloading package stopwords to /root/nltk_data...\n",
            "[nltk_data]   Package stopwords is already up-to-date!\n",
            "[nltk_data] Downloading package wordnet to /root/nltk_data...\n",
            "[nltk_data]   Package wordnet is already up-to-date!\n"
          ]
        },
        {
          "output_type": "stream",
          "name": "stdout",
          "text": [
            "{'itself', 'were', 'what', 'doing', \"you'll\", 'herself', \"hadn't\", 'but', 'couldn', 'now', 'more', \"you'd\", 'haven', \"haven't\", \"shouldn't\", 'can', \"should've\", 'nor', 'had', 'whom', 'few', 'needn', 'yourselves', 'his', 'myself', 'any', \"wasn't\", 'under', 'wouldn', 've', 'ours', \"don't\", 'himself', 'd', 'hasn', 'an', \"weren't\", 'all', 'our', 'again', 'should', 'if', 'you', 'once', \"you're\", \"that'll\", 'won', 'did', 'by', \"mightn't\", 'he', 'only', 'we', 'both', 'the', 'then', 'having', 'of', 'isn', 'ma', 'shan', 'themselves', \"isn't\", 'as', 'so', 'above', 'am', \"needn't\", \"hasn't\", 'be', 'because', 'those', 'yours', 'and', 'which', 'there', 'will', 'with', 'below', 'theirs', 'here', 'doesn', 'or', 'they', 'very', \"didn't\", 'from', 'it', 'been', 'not', 'other', 'm', 'don', \"won't\", 'further', 'o', 'some', 'her', 'down', 'll', \"she's\", 'how', 'same', 'your', 'between', 'being', 's', 'mightn', 'my', 'on', 'mustn', 'weren', 'such', 'before', 'over', 't', 'them', 'is', 'yourself', \"it's\", 'in', 'off', 'until', 'when', 'ourselves', 'she', 'after', 'through', 'out', 'into', 'does', 'shouldn', 'too', 'most', 'why', 'during', 'while', 'i', \"wouldn't\", 'hadn', 'where', \"doesn't\", 'just', 'me', 'who', 'was', 'has', 'do', 'to', 'own', 'its', 'up', \"aren't\", \"shan't\", 'y', 'for', 'him', 'a', 'these', 'no', 'hers', 'at', 'are', 'wasn', 'didn', 'this', \"couldn't\", \"you've\", 'about', 'than', 'have', 'against', 'each', 're', 'that', \"mustn't\", 'ain', 'aren', 'their'}\n",
            "['a', 'secret', 'government', 'agency', 'recruits', 'some', 'of', 'the', 'most', 'dangerous', 'incarcerated', 'super-villains', 'to', 'form', 'a', 'defensive', 'task', 'force', '.', 'their', 'first', 'mission', ':', 'save', 'the', 'world', 'from', 'the', 'apocalypse', '.']\n",
            "['secret', 'government', 'agency', 'recruit', 'dangerous', 'incarcerated', 'form', 'defensive', 'task', 'force', 'first', 'mission', 'save', 'world', 'apocalypse']\n"
          ]
        }
      ],
      "source": [
        "#preprocessing\n",
        "import nltk\n",
        "from nltk.corpus import stopwords\n",
        "from nltk.stem import WordNetLemmatizer\n",
        "import tensorflow as tf\n",
        "from tensorflow.keras.preprocessing.text import Tokenizer\n",
        "from tensorflow.keras.preprocessing.sequence import pad_sequences\n",
        "\n",
        "nltk.download('punkt')\n",
        "nltk.download('punkt_tab')\n",
        "nltk.download('stopwords')\n",
        "nltk.download('wordnet')\n",
        "\n",
        "stop_words = set(stopwords.words('english'))\n",
        "print(stop_words)\n",
        "lemmatizer = WordNetLemmatizer()\n",
        "\n",
        "#sample\n",
        "tokens = nltk.word_tokenize(data['Description'][4].lower())\n",
        "print(tokens)\n",
        "filtered_tokens = [lemmatizer.lemmatize(token) for token in\n",
        "tokens if token not in stop_words and token.isalnum()]\n",
        "print(filtered_tokens)"
      ]
    },
    {
      "cell_type": "code",
      "execution_count": 9,
      "metadata": {
        "id": "UmuKXgR2jDDm"
      },
      "outputs": [],
      "source": [
        "def preprocess(text):\n",
        "  tokens = nltk.word_tokenize(text.lower())\n",
        "  filtered_tokens = [lemmatizer.lemmatize(token) for token in\n",
        "  tokens if token not in stop_words and token.isalnum()]\n",
        "  return \" \".join(filtered_tokens)"
      ]
    },
    {
      "cell_type": "code",
      "execution_count": 10,
      "metadata": {
        "colab": {
          "base_uri": "https://localhost:8080/"
        },
        "id": "RQ-WaCgBk3eB",
        "outputId": "5561fdaf-f590-41af-e0bd-8127479d8d99"
      },
      "outputs": [
        {
          "output_type": "stream",
          "name": "stdout",
          "text": [
            "[   0    0    0    0    0    0    0    0    0    0    0    0    0    0\n",
            "    0    0    0    0    0    0    0    0    0    0    0    0    0    0\n",
            "    0    0    0    0    0    0    0    0    0    0    0    0    0    0\n",
            "    0    0    0    0    0    0    0    0    0    0    0    0    0    0\n",
            "    0    0    0    0    0    0    0    0    0    0    0    0    0    0\n",
            "    0    0    0    0    0    0    0    0    0    0    0    0    0    0\n",
            "    0    0    0    0    0    0    0    0    0    0    0    0    0    0\n",
            "    0    0    0    0    0    0    0    0    0    0    0    0    0    0\n",
            "    0    0    0    0    0    0    0    0    0    0    0    0    0    0\n",
            "    0    0    0    0    0    0    0    0    0    0    0    0    0    0\n",
            "    0    0    0    0    0    0    0    0    0    0    0    0    0    0\n",
            "    0    0    0    0    0    0    0    0    0    0    0    0    0    0\n",
            "    0    0    0    0    0    0    0    0    0    0    0    0    0    0\n",
            "    0    0    0    0    0    0    0    0    0    0    0    0    0    0\n",
            "    0    0    0    0    0    0    0    0    0    0    0    0    0    0\n",
            "    0    0    0    0    0    0    0    0    0    0    0    0    0    0\n",
            "    0    0    0    0    0    0    0    0    0    0    0    0    0    0\n",
            "    0    0    0    0    0    0    0    0    0    0    0    0    0    0\n",
            "    0    0    0    0    0    0    0    0    0    0    0    0    0    0\n",
            "    0    0    0    0    0    0    0    0    0    0    0    0    0    0\n",
            "    0    0    0    0    0    0 1080 1879 3701  145    4   25  573 1984\n",
            "  452 1946 1985 1986 1720 3702]\n"
          ]
        }
      ],
      "source": [
        "data['preprocessed'] = data['Description'].apply(preprocess)\n",
        "\n",
        "#padding\n",
        "tokenizer = Tokenizer()\n",
        "tokenizer.fit_on_texts(data['preprocessed'])\n",
        "sequences = tokenizer.texts_to_sequences(data['preprocessed'])\n",
        "word_index = tokenizer.word_index\n",
        "padded = pad_sequences(sequences, maxlen=300)\n",
        "print(padded[500])"
      ]
    },
    {
      "cell_type": "code",
      "execution_count": 11,
      "metadata": {
        "colab": {
          "base_uri": "https://localhost:8080/"
        },
        "id": "PN2Mm0RpQ-Kq",
        "outputId": "2fd48cc5-44df-41f2-91f1-09832d02314b"
      },
      "outputs": [
        {
          "output_type": "stream",
          "name": "stdout",
          "text": [
            "--2024-11-18 03:10:11--  http://nlp.stanford.edu/data/glove.6B.zip\n",
            "Resolving nlp.stanford.edu (nlp.stanford.edu)... 171.64.67.140\n",
            "Connecting to nlp.stanford.edu (nlp.stanford.edu)|171.64.67.140|:80... connected.\n",
            "HTTP request sent, awaiting response... 302 Found\n",
            "Location: https://nlp.stanford.edu/data/glove.6B.zip [following]\n",
            "--2024-11-18 03:10:11--  https://nlp.stanford.edu/data/glove.6B.zip\n",
            "Connecting to nlp.stanford.edu (nlp.stanford.edu)|171.64.67.140|:443... connected.\n",
            "HTTP request sent, awaiting response... 301 Moved Permanently\n",
            "Location: https://downloads.cs.stanford.edu/nlp/data/glove.6B.zip [following]\n",
            "--2024-11-18 03:10:12--  https://downloads.cs.stanford.edu/nlp/data/glove.6B.zip\n",
            "Resolving downloads.cs.stanford.edu (downloads.cs.stanford.edu)... 171.64.64.22\n",
            "Connecting to downloads.cs.stanford.edu (downloads.cs.stanford.edu)|171.64.64.22|:443... connected.\n",
            "HTTP request sent, awaiting response... 200 OK\n",
            "Length: 862182613 (822M) [application/zip]\n",
            "Saving to: ‘glove.6B.zip’\n",
            "\n",
            "glove.6B.zip        100%[===================>] 822.24M  5.04MB/s    in 2m 40s  \n",
            "\n",
            "2024-11-18 03:12:52 (5.15 MB/s) - ‘glove.6B.zip’ saved [862182613/862182613]\n",
            "\n",
            "Archive:  glove.6B.zip\n",
            "  inflating: glove.6B.50d.txt        \n",
            "  inflating: glove.6B.100d.txt       \n",
            "  inflating: glove.6B.200d.txt       \n",
            "  inflating: glove.6B.300d.txt       \n"
          ]
        }
      ],
      "source": [
        "\n",
        "!wget http://nlp.stanford.edu/data/glove.6B.zip\n",
        "!unzip glove.6B.zip\n",
        "\n"
      ]
    },
    {
      "cell_type": "code",
      "execution_count": 12,
      "metadata": {
        "id": "hQB9JlugYw8a",
        "colab": {
          "base_uri": "https://localhost:8080/"
        },
        "outputId": "025f36d6-4354-4af6-cdb8-92af00673986"
      },
      "outputs": [
        {
          "output_type": "stream",
          "name": "stdout",
          "text": [
            "Found 400000 word vectors.\n"
          ]
        }
      ],
      "source": [
        "import numpy as np\n",
        "\n",
        "embeddings_index = {}\n",
        "with open('glove.6B.100d.txt', encoding='utf-8') as f:\n",
        "  for line in f:\n",
        "    values = line.split()\n",
        "    word = values[0]\n",
        "    coefs = np.asarray(values[1:], dtype='float32')\n",
        "    embeddings_index[word] = coefs\n",
        "  print('Found %s word vectors.' % len(embeddings_index))"
      ]
    },
    {
      "cell_type": "code",
      "execution_count": 13,
      "metadata": {
        "colab": {
          "base_uri": "https://localhost:8080/"
        },
        "id": "Fs0-KOSecSu-",
        "outputId": "241fdf1d-cb85-4ace-9e30-0bea9cb0adef"
      },
      "outputs": [
        {
          "output_type": "stream",
          "name": "stdout",
          "text": [
            "0       [Action, Adventure, Sci-Fi]\n",
            "1      [Adventure, Mystery, Sci-Fi]\n",
            "2                [Horror, Thriller]\n",
            "3       [Animation, Comedy, Family]\n",
            "4      [Action, Adventure, Fantasy]\n",
            "                   ...             \n",
            "995         [Crime, Drama, Mystery]\n",
            "996                        [Horror]\n",
            "997         [Drama, Music, Romance]\n",
            "998             [Adventure, Comedy]\n",
            "999       [Comedy, Family, Fantasy]\n",
            "Name: Genre, Length: 1000, dtype: object\n",
            "[0 0 0 0 0 0 0 0 0 0 1 0 0 0 0 0 0 1 0 0]\n",
            "['Action' 'Adventure' 'Animation' 'Biography' 'Comedy' 'Crime' 'Drama'\n",
            " 'Family' 'Fantasy' 'History' 'Horror' 'Music' 'Musical' 'Mystery'\n",
            " 'Romance' 'Sci-Fi' 'Sport' 'Thriller' 'War' 'Western']\n"
          ]
        }
      ],
      "source": [
        "from sklearn.preprocessing import MultiLabelBinarizer\n",
        "\n",
        "data['Genre'] = data['Genre'].apply(lambda x: x.split(','))\n",
        "print(data['Genre'])\n",
        "mlb = MultiLabelBinarizer()\n",
        "genres_encoded = mlb.fit_transform(data['Genre'])\n",
        "print(genres_encoded[2])\n",
        "print(mlb.classes_)"
      ]
    },
    {
      "cell_type": "code",
      "execution_count": 14,
      "metadata": {
        "colab": {
          "base_uri": "https://localhost:8080/"
        },
        "id": "BmjJ57O1S1-m",
        "outputId": "e28b4075-0086-4e60-ace9-9d144c405646"
      },
      "outputs": [
        {
          "output_type": "stream",
          "name": "stdout",
          "text": [
            "[ 0.27827999  0.49947     0.24943    -0.68330997 -0.24754     0.93738002\n",
            "  0.18961    -0.44422001 -0.33965001 -0.18938001 -0.10852    -0.47231001\n",
            "  0.30958     0.058438    0.63569999 -0.47887999  0.46168    -0.12471\n",
            " -0.43198001  0.73152     0.079954   -0.59605998  0.012239   -0.23816\n",
            "  0.64160001  0.23203    -0.40434    -0.83525002  0.10051     0.73958999\n",
            " -0.34003001  0.66995001  0.40713    -0.47383001  0.034505   -0.48907\n",
            " -0.22336     0.99294001  0.013465    0.089224   -0.84092999 -0.082551\n",
            " -0.29919001 -0.15525     0.2429     -0.13256    -0.15973     0.036625\n",
            "  0.24643999  0.25459999 -0.62690997 -1.01960003 -0.30930001  0.80447\n",
            "  0.18698999 -2.09290004 -0.55539    -0.12847     1.30239999 -0.010272\n",
            "  0.1683      1.09990001 -0.11304     0.029322    0.83424997  0.20253\n",
            "  1.01100004  0.59684002  0.25211     0.046341    0.54534    -0.18607\n",
            " -1.14999998 -0.39846    -0.080683    0.36930999 -0.15826    -0.099494\n",
            " -0.041378   -1.21519995  1.18900001  0.62548     0.11624    -0.28575\n",
            " -1.63279998 -0.87658    -0.49625999  0.01602    -0.27605999 -0.63888001\n",
            " -0.12037    -0.31863001  0.64739001 -0.093641   -0.96419001 -0.12825\n",
            " -1.36510003 -0.32742    -0.30035999  0.092956  ]\n"
          ]
        }
      ],
      "source": [
        "#print(len(list(tokenizer.word_index.items())))\n",
        "\n",
        "\n",
        "embed_matrix = np.zeros((len(word_index) + 1, 100))\n",
        "for word, i in word_index.items():\n",
        "    embed_vector = embeddings_index.get(word)\n",
        "    if embed_vector is not None:\n",
        "      embed_matrix[i] = embed_vector\n",
        "\n",
        "print(embed_matrix[2])"
      ]
    },
    {
      "cell_type": "code",
      "execution_count": 17,
      "metadata": {
        "colab": {
          "base_uri": "https://localhost:8080/"
        },
        "id": "NtGuAh1vumVa",
        "outputId": "83d0ff0e-6c88-4a5f-f23b-575be32f1ba1"
      },
      "outputs": [
        {
          "output_type": "stream",
          "name": "stdout",
          "text": [
            "(1000, 300)\n",
            "5148\n"
          ]
        }
      ],
      "source": [
        "from keras.models import Sequential\n",
        "from keras.layers import Dense, SimpleRNN, Embedding, Input, Dropout\n",
        "from keras.optimizers import Adam\n",
        "from sklearn.utils.class_weight import compute_class_weight\n",
        "\n",
        "#print(len(data['Title'].values))\n",
        "#print(len(padded))\n",
        "#print(len(genres_encoded))\n",
        "\n",
        "#model\n",
        "model = Sequential()\n",
        "model.add(Embedding(len(word_index) + 1, 100, weights=[embed_matrix], trainable=True))\n",
        "model.add(SimpleRNN(units=150, activation='sigmoid'))\n",
        "model.add(Dropout(0.3))\n",
        "model.add(Dense(len(mlb.classes_), activation='sigmoid'))\n",
        "\n",
        "model.compile(optimizer=Adam(), loss='binary_crossentropy', metrics=['accuracy'])\n",
        "\n",
        "X = padded\n",
        "Y = genres_encoded\n",
        "\n",
        "print(padded.shape)\n",
        "print(len(tokenizer.word_index))\n",
        "\n",
        "X_train, X_val, X_test = X[:700], X[700:800], X[800:]\n",
        "Y_train, Y_val, Y_test = Y[:700], Y[700:800], Y[800:]"
      ]
    },
    {
      "cell_type": "code",
      "execution_count": 19,
      "metadata": {
        "id": "vRkGwUF79Uqg",
        "colab": {
          "base_uri": "https://localhost:8080/",
          "height": 967
        },
        "outputId": "af3c67df-98c9-420a-e7ee-914af0c61211"
      },
      "outputs": [
        {
          "output_type": "display_data",
          "data": {
            "text/plain": [
              "\u001b[1mModel: \"sequential_1\"\u001b[0m\n"
            ],
            "text/html": [
              "<pre style=\"white-space:pre;overflow-x:auto;line-height:normal;font-family:Menlo,'DejaVu Sans Mono',consolas,'Courier New',monospace\"><span style=\"font-weight: bold\">Model: \"sequential_1\"</span>\n",
              "</pre>\n"
            ]
          },
          "metadata": {}
        },
        {
          "output_type": "display_data",
          "data": {
            "text/plain": [
              "┏━━━━━━━━━━━━━━━━━━━━━━━━━━━━━━━━━━━━━━┳━━━━━━━━━━━━━━━━━━━━━━━━━━━━━┳━━━━━━━━━━━━━━━━━┓\n",
              "┃\u001b[1m \u001b[0m\u001b[1mLayer (type)                        \u001b[0m\u001b[1m \u001b[0m┃\u001b[1m \u001b[0m\u001b[1mOutput Shape               \u001b[0m\u001b[1m \u001b[0m┃\u001b[1m \u001b[0m\u001b[1m        Param #\u001b[0m\u001b[1m \u001b[0m┃\n",
              "┡━━━━━━━━━━━━━━━━━━━━━━━━━━━━━━━━━━━━━━╇━━━━━━━━━━━━━━━━━━━━━━━━━━━━━╇━━━━━━━━━━━━━━━━━┩\n",
              "│ embedding_1 (\u001b[38;5;33mEmbedding\u001b[0m)              │ (\u001b[38;5;45mNone\u001b[0m, \u001b[38;5;34m300\u001b[0m, \u001b[38;5;34m100\u001b[0m)            │         \u001b[38;5;34m514,900\u001b[0m │\n",
              "├──────────────────────────────────────┼─────────────────────────────┼─────────────────┤\n",
              "│ simple_rnn_1 (\u001b[38;5;33mSimpleRNN\u001b[0m)             │ (\u001b[38;5;45mNone\u001b[0m, \u001b[38;5;34m150\u001b[0m)                 │          \u001b[38;5;34m37,650\u001b[0m │\n",
              "├──────────────────────────────────────┼─────────────────────────────┼─────────────────┤\n",
              "│ dropout_1 (\u001b[38;5;33mDropout\u001b[0m)                  │ (\u001b[38;5;45mNone\u001b[0m, \u001b[38;5;34m150\u001b[0m)                 │               \u001b[38;5;34m0\u001b[0m │\n",
              "├──────────────────────────────────────┼─────────────────────────────┼─────────────────┤\n",
              "│ dense_1 (\u001b[38;5;33mDense\u001b[0m)                      │ (\u001b[38;5;45mNone\u001b[0m, \u001b[38;5;34m20\u001b[0m)                  │           \u001b[38;5;34m3,020\u001b[0m │\n",
              "└──────────────────────────────────────┴─────────────────────────────┴─────────────────┘\n"
            ],
            "text/html": [
              "<pre style=\"white-space:pre;overflow-x:auto;line-height:normal;font-family:Menlo,'DejaVu Sans Mono',consolas,'Courier New',monospace\">┏━━━━━━━━━━━━━━━━━━━━━━━━━━━━━━━━━━━━━━┳━━━━━━━━━━━━━━━━━━━━━━━━━━━━━┳━━━━━━━━━━━━━━━━━┓\n",
              "┃<span style=\"font-weight: bold\"> Layer (type)                         </span>┃<span style=\"font-weight: bold\"> Output Shape                </span>┃<span style=\"font-weight: bold\">         Param # </span>┃\n",
              "┡━━━━━━━━━━━━━━━━━━━━━━━━━━━━━━━━━━━━━━╇━━━━━━━━━━━━━━━━━━━━━━━━━━━━━╇━━━━━━━━━━━━━━━━━┩\n",
              "│ embedding_1 (<span style=\"color: #0087ff; text-decoration-color: #0087ff\">Embedding</span>)              │ (<span style=\"color: #00d7ff; text-decoration-color: #00d7ff\">None</span>, <span style=\"color: #00af00; text-decoration-color: #00af00\">300</span>, <span style=\"color: #00af00; text-decoration-color: #00af00\">100</span>)            │         <span style=\"color: #00af00; text-decoration-color: #00af00\">514,900</span> │\n",
              "├──────────────────────────────────────┼─────────────────────────────┼─────────────────┤\n",
              "│ simple_rnn_1 (<span style=\"color: #0087ff; text-decoration-color: #0087ff\">SimpleRNN</span>)             │ (<span style=\"color: #00d7ff; text-decoration-color: #00d7ff\">None</span>, <span style=\"color: #00af00; text-decoration-color: #00af00\">150</span>)                 │          <span style=\"color: #00af00; text-decoration-color: #00af00\">37,650</span> │\n",
              "├──────────────────────────────────────┼─────────────────────────────┼─────────────────┤\n",
              "│ dropout_1 (<span style=\"color: #0087ff; text-decoration-color: #0087ff\">Dropout</span>)                  │ (<span style=\"color: #00d7ff; text-decoration-color: #00d7ff\">None</span>, <span style=\"color: #00af00; text-decoration-color: #00af00\">150</span>)                 │               <span style=\"color: #00af00; text-decoration-color: #00af00\">0</span> │\n",
              "├──────────────────────────────────────┼─────────────────────────────┼─────────────────┤\n",
              "│ dense_1 (<span style=\"color: #0087ff; text-decoration-color: #0087ff\">Dense</span>)                      │ (<span style=\"color: #00d7ff; text-decoration-color: #00d7ff\">None</span>, <span style=\"color: #00af00; text-decoration-color: #00af00\">20</span>)                  │           <span style=\"color: #00af00; text-decoration-color: #00af00\">3,020</span> │\n",
              "└──────────────────────────────────────┴─────────────────────────────┴─────────────────┘\n",
              "</pre>\n"
            ]
          },
          "metadata": {}
        },
        {
          "output_type": "display_data",
          "data": {
            "text/plain": [
              "\u001b[1m Total params: \u001b[0m\u001b[38;5;34m1,666,712\u001b[0m (6.36 MB)\n"
            ],
            "text/html": [
              "<pre style=\"white-space:pre;overflow-x:auto;line-height:normal;font-family:Menlo,'DejaVu Sans Mono',consolas,'Courier New',monospace\"><span style=\"font-weight: bold\"> Total params: </span><span style=\"color: #00af00; text-decoration-color: #00af00\">1,666,712</span> (6.36 MB)\n",
              "</pre>\n"
            ]
          },
          "metadata": {}
        },
        {
          "output_type": "display_data",
          "data": {
            "text/plain": [
              "\u001b[1m Trainable params: \u001b[0m\u001b[38;5;34m555,570\u001b[0m (2.12 MB)\n"
            ],
            "text/html": [
              "<pre style=\"white-space:pre;overflow-x:auto;line-height:normal;font-family:Menlo,'DejaVu Sans Mono',consolas,'Courier New',monospace\"><span style=\"font-weight: bold\"> Trainable params: </span><span style=\"color: #00af00; text-decoration-color: #00af00\">555,570</span> (2.12 MB)\n",
              "</pre>\n"
            ]
          },
          "metadata": {}
        },
        {
          "output_type": "display_data",
          "data": {
            "text/plain": [
              "\u001b[1m Non-trainable params: \u001b[0m\u001b[38;5;34m0\u001b[0m (0.00 B)\n"
            ],
            "text/html": [
              "<pre style=\"white-space:pre;overflow-x:auto;line-height:normal;font-family:Menlo,'DejaVu Sans Mono',consolas,'Courier New',monospace\"><span style=\"font-weight: bold\"> Non-trainable params: </span><span style=\"color: #00af00; text-decoration-color: #00af00\">0</span> (0.00 B)\n",
              "</pre>\n"
            ]
          },
          "metadata": {}
        },
        {
          "output_type": "display_data",
          "data": {
            "text/plain": [
              "\u001b[1m Optimizer params: \u001b[0m\u001b[38;5;34m1,111,142\u001b[0m (4.24 MB)\n"
            ],
            "text/html": [
              "<pre style=\"white-space:pre;overflow-x:auto;line-height:normal;font-family:Menlo,'DejaVu Sans Mono',consolas,'Courier New',monospace\"><span style=\"font-weight: bold\"> Optimizer params: </span><span style=\"color: #00af00; text-decoration-color: #00af00\">1,111,142</span> (4.24 MB)\n",
              "</pre>\n"
            ]
          },
          "metadata": {}
        },
        {
          "output_type": "stream",
          "name": "stdout",
          "text": [
            "Epoch 1/20\n",
            "\u001b[1m11/11\u001b[0m \u001b[32m━━━━━━━━━━━━━━━━━━━━\u001b[0m\u001b[37m\u001b[0m \u001b[1m2s\u001b[0m 220ms/step - accuracy: 0.0993 - loss: 0.6122 - val_accuracy: 0.1500 - val_loss: 0.3846 - learning_rate: 0.0010\n",
            "Epoch 2/20\n",
            "\u001b[1m11/11\u001b[0m \u001b[32m━━━━━━━━━━━━━━━━━━━━\u001b[0m\u001b[37m\u001b[0m \u001b[1m2s\u001b[0m 192ms/step - accuracy: 0.1852 - loss: 0.3749 - val_accuracy: 0.1500 - val_loss: 0.3271 - learning_rate: 0.0010\n",
            "Epoch 3/20\n",
            "\u001b[1m11/11\u001b[0m \u001b[32m━━━━━━━━━━━━━━━━━━━━\u001b[0m\u001b[37m\u001b[0m \u001b[1m2s\u001b[0m 195ms/step - accuracy: 0.2266 - loss: 0.3379 - val_accuracy: 0.1500 - val_loss: 0.3223 - learning_rate: 0.0010\n",
            "Epoch 4/20\n",
            "\u001b[1m11/11\u001b[0m \u001b[32m━━━━━━━━━━━━━━━━━━━━\u001b[0m\u001b[37m\u001b[0m \u001b[1m2s\u001b[0m 227ms/step - accuracy: 0.2274 - loss: 0.3335 - val_accuracy: 0.1500 - val_loss: 0.3222 - learning_rate: 0.0010\n",
            "Epoch 5/20\n",
            "\u001b[1m11/11\u001b[0m \u001b[32m━━━━━━━━━━━━━━━━━━━━\u001b[0m\u001b[37m\u001b[0m \u001b[1m4s\u001b[0m 345ms/step - accuracy: 0.2296 - loss: 0.3274 - val_accuracy: 0.1500 - val_loss: 0.3200 - learning_rate: 0.0010\n",
            "Epoch 6/20\n",
            "\u001b[1m11/11\u001b[0m \u001b[32m━━━━━━━━━━━━━━━━━━━━\u001b[0m\u001b[37m\u001b[0m \u001b[1m4s\u001b[0m 362ms/step - accuracy: 0.2315 - loss: 0.3190 - val_accuracy: 0.1500 - val_loss: 0.3179 - learning_rate: 0.0010\n",
            "Epoch 7/20\n",
            "\u001b[1m11/11\u001b[0m \u001b[32m━━━━━━━━━━━━━━━━━━━━\u001b[0m\u001b[37m\u001b[0m \u001b[1m5s\u001b[0m 362ms/step - accuracy: 0.2463 - loss: 0.3215 - val_accuracy: 0.1500 - val_loss: 0.3176 - learning_rate: 0.0010\n",
            "Epoch 8/20\n",
            "\u001b[1m11/11\u001b[0m \u001b[32m━━━━━━━━━━━━━━━━━━━━\u001b[0m\u001b[37m\u001b[0m \u001b[1m2s\u001b[0m 202ms/step - accuracy: 0.2131 - loss: 0.3172 - val_accuracy: 0.1600 - val_loss: 0.3180 - learning_rate: 0.0010\n",
            "Epoch 9/20\n",
            "\u001b[1m11/11\u001b[0m \u001b[32m━━━━━━━━━━━━━━━━━━━━\u001b[0m\u001b[37m\u001b[0m \u001b[1m2s\u001b[0m 202ms/step - accuracy: 0.2832 - loss: 0.3122 - val_accuracy: 0.1700 - val_loss: 0.3173 - learning_rate: 0.0010\n",
            "Epoch 10/20\n",
            "\u001b[1m11/11\u001b[0m \u001b[32m━━━━━━━━━━━━━━━━━━━━\u001b[0m\u001b[37m\u001b[0m \u001b[1m2s\u001b[0m 191ms/step - accuracy: 0.2613 - loss: 0.3124 - val_accuracy: 0.1600 - val_loss: 0.3161 - learning_rate: 0.0010\n",
            "Epoch 11/20\n",
            "\u001b[1m11/11\u001b[0m \u001b[32m━━━━━━━━━━━━━━━━━━━━\u001b[0m\u001b[37m\u001b[0m \u001b[1m2s\u001b[0m 196ms/step - accuracy: 0.2720 - loss: 0.3102 - val_accuracy: 0.1700 - val_loss: 0.3162 - learning_rate: 0.0010\n",
            "Epoch 12/20\n",
            "\u001b[1m11/11\u001b[0m \u001b[32m━━━━━━━━━━━━━━━━━━━━\u001b[0m\u001b[37m\u001b[0m \u001b[1m3s\u001b[0m 257ms/step - accuracy: 0.2720 - loss: 0.3070 - val_accuracy: 0.1700 - val_loss: 0.3153 - learning_rate: 0.0010\n",
            "Epoch 13/20\n",
            "\u001b[1m11/11\u001b[0m \u001b[32m━━━━━━━━━━━━━━━━━━━━\u001b[0m\u001b[37m\u001b[0m \u001b[1m6s\u001b[0m 342ms/step - accuracy: 0.3155 - loss: 0.3066 - val_accuracy: 0.1600 - val_loss: 0.3161 - learning_rate: 0.0010\n",
            "Epoch 14/20\n",
            "\u001b[1m11/11\u001b[0m \u001b[32m━━━━━━━━━━━━━━━━━━━━\u001b[0m\u001b[37m\u001b[0m \u001b[1m5s\u001b[0m 304ms/step - accuracy: 0.3019 - loss: 0.3056 - val_accuracy: 0.1700 - val_loss: 0.3132 - learning_rate: 0.0010\n",
            "Epoch 15/20\n",
            "\u001b[1m11/11\u001b[0m \u001b[32m━━━━━━━━━━━━━━━━━━━━\u001b[0m\u001b[37m\u001b[0m \u001b[1m2s\u001b[0m 205ms/step - accuracy: 0.2830 - loss: 0.2988 - val_accuracy: 0.1700 - val_loss: 0.3127 - learning_rate: 0.0010\n",
            "Epoch 16/20\n",
            "\u001b[1m11/11\u001b[0m \u001b[32m━━━━━━━━━━━━━━━━━━━━\u001b[0m\u001b[37m\u001b[0m \u001b[1m2s\u001b[0m 195ms/step - accuracy: 0.3060 - loss: 0.2951 - val_accuracy: 0.1800 - val_loss: 0.3141 - learning_rate: 0.0010\n",
            "Epoch 17/20\n",
            "\u001b[1m11/11\u001b[0m \u001b[32m━━━━━━━━━━━━━━━━━━━━\u001b[0m\u001b[37m\u001b[0m \u001b[1m2s\u001b[0m 195ms/step - accuracy: 0.3290 - loss: 0.2935 - val_accuracy: 0.1800 - val_loss: 0.3123 - learning_rate: 0.0010\n",
            "Epoch 18/20\n",
            "\u001b[1m11/11\u001b[0m \u001b[32m━━━━━━━━━━━━━━━━━━━━\u001b[0m\u001b[37m\u001b[0m \u001b[1m2s\u001b[0m 197ms/step - accuracy: 0.3796 - loss: 0.2878 - val_accuracy: 0.1700 - val_loss: 0.3112 - learning_rate: 0.0010\n",
            "Epoch 19/20\n",
            "\u001b[1m11/11\u001b[0m \u001b[32m━━━━━━━━━━━━━━━━━━━━\u001b[0m\u001b[37m\u001b[0m \u001b[1m4s\u001b[0m 319ms/step - accuracy: 0.3550 - loss: 0.2856 - val_accuracy: 0.1900 - val_loss: 0.3112 - learning_rate: 0.0010\n",
            "Epoch 20/20\n",
            "\u001b[1m11/11\u001b[0m \u001b[32m━━━━━━━━━━━━━━━━━━━━\u001b[0m\u001b[37m\u001b[0m \u001b[1m4s\u001b[0m 336ms/step - accuracy: 0.4024 - loss: 0.2765 - val_accuracy: 0.1900 - val_loss: 0.3118 - learning_rate: 0.0010\n"
          ]
        }
      ],
      "source": [
        "from keras.callbacks import ReduceLROnPlateau\n",
        "\n",
        "model.summary()\n",
        "history1 = model.fit(X_train, Y_train, epochs=20, batch_size=64, validation_data=(X_val, Y_val), callbacks=[ReduceLROnPlateau()], )"
      ]
    },
    {
      "cell_type": "code",
      "source": [
        "import matplotlib.pyplot as plt\n",
        "\n",
        "plt.figure(figsize=(12,4))\n",
        "plt.subplot(1, 2, 1)\n",
        "plt.plot(history1.history['accuracy'], label = 'Train Accuracy')\n",
        "plt.plot(history1.history['val_accuracy'], label = 'Validation Accuracy')\n",
        "plt.title('Model Accuracy RNN')\n",
        "plt.ylabel('Accuracy')\n",
        "plt.xlabel('Epoch')\n",
        "plt.legend(loc = 'upper left')\n",
        "\n",
        "plt.show()\n",
        "plt.subplot(1, 2, 1)\n",
        "plt.plot(history1.history['loss'], label = 'Train Loss')\n",
        "plt.plot(history1.history['val_loss'], label = 'Validation Loss')\n",
        "plt.title('Model Loss RNN')\n",
        "plt.ylabel('Loss')\n",
        "plt.xlabel('Epoch')\n",
        "plt.legend(loc='upper left')\n",
        "\n",
        "plt.show()"
      ],
      "metadata": {
        "colab": {
          "base_uri": "https://localhost:8080/",
          "height": 865
        },
        "id": "A7i724KqOb8M",
        "outputId": "bfa214e2-9aef-40b2-8a5b-fa7122eeb978"
      },
      "execution_count": 23,
      "outputs": [
        {
          "output_type": "display_data",
          "data": {
            "text/plain": [
              "<Figure size 1200x400 with 1 Axes>"
            ],
            "image/png": "[encoded data removed]"
          },
          "metadata": {}
        },
        {
          "output_type": "display_data",
          "data": {
            "text/plain": [
              "<Figure size 640x480 with 1 Axes>"
            ],
            "image/png": "[encoded data removed]"
          },
          "metadata": {}
        }
      ]
    },
    {
      "cell_type": "code",
      "execution_count": 27,
      "metadata": {
        "id": "uOPVQDE7WQ7E",
        "colab": {
          "base_uri": "https://localhost:8080/"
        },
        "outputId": "1dfdff69-dc5d-4b4a-f5b0-43a5b6485665"
      },
      "outputs": [
        {
          "output_type": "stream",
          "name": "stdout",
          "text": [
            "\u001b[1m7/7\u001b[0m \u001b[32m━━━━━━━━━━━━━━━━━━━━\u001b[0m\u001b[37m\u001b[0m \u001b[1m1s\u001b[0m 89ms/step - accuracy: 0.2893 - loss: 0.3125\n",
            "\u001b[1m7/7\u001b[0m \u001b[32m━━━━━━━━━━━━━━━━━━━━\u001b[0m\u001b[37m\u001b[0m \u001b[1m1s\u001b[0m 80ms/step\n",
            "\n",
            "Test Accuracy: 0.30000001192092896\n",
            "Test Loss: 0.3064471185207367\n",
            "Precision: 0.5913978494623656\n",
            "Recall: 0.22357723577235772\n",
            "F1 Score: 0.32448377581120946\n",
            "\n",
            "Movie: Guardians of the Galaxy\n",
            "Actual genres: Action, Adventure, Sci-Fi\n",
            "Predicted genres: Action\n",
            "\n",
            "Movie: Prometheus\n",
            "Actual genres: Adventure, Mystery, Sci-Fi\n",
            "Predicted genres: Drama\n",
            "\n",
            "Movie: Split\n",
            "Actual genres: Horror, Thriller\n",
            "Predicted genres: Action\n",
            "\n",
            "Movie: Sing\n",
            "Actual genres: Animation, Comedy, Family\n",
            "Predicted genres: Action\n",
            "\n",
            "Movie: Suicide Squad\n",
            "Actual genres: Action, Adventure, Fantasy\n",
            "Predicted genres: Action\n",
            "\n"
          ]
        }
      ],
      "source": [
        "from sklearn.metrics import precision_score, recall_score, f1_score\n",
        "\n",
        "test_loss, test_accuracy = model.evaluate(X_test, Y_test)\n",
        "\n",
        "y_pred = model.predict(X_test)\n",
        "y_pred_classes = (y_pred > 0.5).astype(int)\n",
        "\n",
        "# Calculate Precision, Recall, F1 Score\n",
        "precision = precision_score(Y_test, y_pred_classes, average='micro')\n",
        "recall = recall_score(Y_test, y_pred_classes, average='micro')\n",
        "f1 = f1_score(Y_test, y_pred_classes, average='micro')\n",
        "\n",
        "print(f'\\nTest Accuracy: {test_accuracy}\\nTest Loss: {test_loss}')\n",
        "print(f\"Precision: {precision}\")\n",
        "print(f\"Recall: {recall}\")\n",
        "print(f\"F1 Score: {f1}\\n\")\n",
        "\n",
        "misclassified = np.where(np.any(Y_test != y_pred_classes, axis=1))[0]\n",
        "\n",
        "# Analyze misclassified instances and suggest improvements\n",
        "for idx in misclassified[:5]:\n",
        "    print(f\"Movie: {data['Title'][idx]}\")\n",
        "    print(f\"Actual genres: {', '.join(data['Genre'][idx])}\")\n",
        "    print(f\"Predicted genres: {', '.join(mlb.classes_[y_pred_classes[idx] == 1])}\")\n",
        "    print()"
      ]
    },
    {
      "cell_type": "code",
      "source": [
        "#LSTM\n",
        "from keras.layers import LSTM\n",
        "from tensorflow.keras import regularizers\n",
        "\n",
        "model = Sequential()\n",
        "model.add(Embedding(len(word_index) + 1, output_dim=100, weights=[embed_matrix], input_length=300, trainable=False))\n",
        "model.add(LSTM(units=256, activation='sigmoid', return_sequences=False))\n",
        "model.add(Dropout(0.5))\n",
        "model.add(Dense(20, activation='sigmoid'))\n",
        "\n",
        "model.compile(optimizer=Adam(), loss='binary_crossentropy', metrics=['accuracy'])\n"
      ],
      "metadata": {
        "id": "arQ28qNi2fuT",
        "colab": {
          "base_uri": "https://localhost:8080/"
        },
        "outputId": "bb416940-68ae-47f4-ac62-8aaec3fa5c31"
      },
      "execution_count": 28,
      "outputs": [
        {
          "output_type": "stream",
          "name": "stderr",
          "text": [
            "/usr/local/lib/python3.10/dist-packages/keras/src/layers/core/embedding.py:90: UserWarning: Argument `input_length` is deprecated. Just remove it.\n",
            "  warnings.warn(\n"
          ]
        }
      ]
    },
    {
      "cell_type": "code",
      "source": [
        "model.summary()\n",
        "history2 = model.fit(X_train, Y_train, epochs=20, batch_size=64, validation_data=(X_val, Y_val), callbacks=[ReduceLROnPlateau()])\n",
        "\n",
        "test_loss, test_accuracy = model.evaluate(X_test, Y_test)\n",
        "\n",
        "y_pred = model.predict(X_test)\n",
        "y_pred_classes = (y_pred > 0.5).astype(int)\n",
        "\n",
        "# Calculate Precision, Recall, F1 Score\n",
        "precision = precision_score(Y_test, y_pred_classes, average='micro')\n",
        "recall = recall_score(Y_test, y_pred_classes, average='micro')\n",
        "f1 = f1_score(Y_test, y_pred_classes, average='micro')"
      ],
      "metadata": {
        "colab": {
          "base_uri": "https://localhost:8080/",
          "height": 1000
        },
        "id": "iZqNw2Rc3F2p",
        "outputId": "5681c44d-b58c-4718-e018-8cf8a036d246"
      },
      "execution_count": 34,
      "outputs": [
        {
          "output_type": "display_data",
          "data": {
            "text/plain": [
              "\u001b[1mModel: \"sequential_2\"\u001b[0m\n"
            ],
            "text/html": [
              "<pre style=\"white-space:pre;overflow-x:auto;line-height:normal;font-family:Menlo,'DejaVu Sans Mono',consolas,'Courier New',monospace\"><span style=\"font-weight: bold\">Model: \"sequential_2\"</span>\n",
              "</pre>\n"
            ]
          },
          "metadata": {}
        },
        {
          "output_type": "display_data",
          "data": {
            "text/plain": [
              "┏━━━━━━━━━━━━━━━━━━━━━━━━━━━━━━━━━━━━━━┳━━━━━━━━━━━━━━━━━━━━━━━━━━━━━┳━━━━━━━━━━━━━━━━━┓\n",
              "┃\u001b[1m \u001b[0m\u001b[1mLayer (type)                        \u001b[0m\u001b[1m \u001b[0m┃\u001b[1m \u001b[0m\u001b[1mOutput Shape               \u001b[0m\u001b[1m \u001b[0m┃\u001b[1m \u001b[0m\u001b[1m        Param #\u001b[0m\u001b[1m \u001b[0m┃\n",
              "┡━━━━━━━━━━━━━━━━━━━━━━━━━━━━━━━━━━━━━━╇━━━━━━━━━━━━━━━━━━━━━━━━━━━━━╇━━━━━━━━━━━━━━━━━┩\n",
              "│ embedding_2 (\u001b[38;5;33mEmbedding\u001b[0m)              │ (\u001b[38;5;45mNone\u001b[0m, \u001b[38;5;34m300\u001b[0m, \u001b[38;5;34m100\u001b[0m)            │         \u001b[38;5;34m514,900\u001b[0m │\n",
              "├──────────────────────────────────────┼─────────────────────────────┼─────────────────┤\n",
              "│ lstm (\u001b[38;5;33mLSTM\u001b[0m)                          │ (\u001b[38;5;45mNone\u001b[0m, \u001b[38;5;34m256\u001b[0m)                 │         \u001b[38;5;34m365,568\u001b[0m │\n",
              "├──────────────────────────────────────┼─────────────────────────────┼─────────────────┤\n",
              "│ dropout_2 (\u001b[38;5;33mDropout\u001b[0m)                  │ (\u001b[38;5;45mNone\u001b[0m, \u001b[38;5;34m256\u001b[0m)                 │               \u001b[38;5;34m0\u001b[0m │\n",
              "├──────────────────────────────────────┼─────────────────────────────┼─────────────────┤\n",
              "│ dense_2 (\u001b[38;5;33mDense\u001b[0m)                      │ (\u001b[38;5;45mNone\u001b[0m, \u001b[38;5;34m20\u001b[0m)                  │           \u001b[38;5;34m5,140\u001b[0m │\n",
              "└──────────────────────────────────────┴─────────────────────────────┴─────────────────┘\n"
            ],
            "text/html": [
              "<pre style=\"white-space:pre;overflow-x:auto;line-height:normal;font-family:Menlo,'DejaVu Sans Mono',consolas,'Courier New',monospace\">┏━━━━━━━━━━━━━━━━━━━━━━━━━━━━━━━━━━━━━━┳━━━━━━━━━━━━━━━━━━━━━━━━━━━━━┳━━━━━━━━━━━━━━━━━┓\n",
              "┃<span style=\"font-weight: bold\"> Layer (type)                         </span>┃<span style=\"font-weight: bold\"> Output Shape                </span>┃<span style=\"font-weight: bold\">         Param # </span>┃\n",
              "┡━━━━━━━━━━━━━━━━━━━━━━━━━━━━━━━━━━━━━━╇━━━━━━━━━━━━━━━━━━━━━━━━━━━━━╇━━━━━━━━━━━━━━━━━┩\n",
              "│ embedding_2 (<span style=\"color: #0087ff; text-decoration-color: #0087ff\">Embedding</span>)              │ (<span style=\"color: #00d7ff; text-decoration-color: #00d7ff\">None</span>, <span style=\"color: #00af00; text-decoration-color: #00af00\">300</span>, <span style=\"color: #00af00; text-decoration-color: #00af00\">100</span>)            │         <span style=\"color: #00af00; text-decoration-color: #00af00\">514,900</span> │\n",
              "├──────────────────────────────────────┼─────────────────────────────┼─────────────────┤\n",
              "│ lstm (<span style=\"color: #0087ff; text-decoration-color: #0087ff\">LSTM</span>)                          │ (<span style=\"color: #00d7ff; text-decoration-color: #00d7ff\">None</span>, <span style=\"color: #00af00; text-decoration-color: #00af00\">256</span>)                 │         <span style=\"color: #00af00; text-decoration-color: #00af00\">365,568</span> │\n",
              "├──────────────────────────────────────┼─────────────────────────────┼─────────────────┤\n",
              "│ dropout_2 (<span style=\"color: #0087ff; text-decoration-color: #0087ff\">Dropout</span>)                  │ (<span style=\"color: #00d7ff; text-decoration-color: #00d7ff\">None</span>, <span style=\"color: #00af00; text-decoration-color: #00af00\">256</span>)                 │               <span style=\"color: #00af00; text-decoration-color: #00af00\">0</span> │\n",
              "├──────────────────────────────────────┼─────────────────────────────┼─────────────────┤\n",
              "│ dense_2 (<span style=\"color: #0087ff; text-decoration-color: #0087ff\">Dense</span>)                      │ (<span style=\"color: #00d7ff; text-decoration-color: #00d7ff\">None</span>, <span style=\"color: #00af00; text-decoration-color: #00af00\">20</span>)                  │           <span style=\"color: #00af00; text-decoration-color: #00af00\">5,140</span> │\n",
              "└──────────────────────────────────────┴─────────────────────────────┴─────────────────┘\n",
              "</pre>\n"
            ]
          },
          "metadata": {}
        },
        {
          "output_type": "display_data",
          "data": {
            "text/plain": [
              "\u001b[1m Total params: \u001b[0m\u001b[38;5;34m1,627,026\u001b[0m (6.21 MB)\n"
            ],
            "text/html": [
              "<pre style=\"white-space:pre;overflow-x:auto;line-height:normal;font-family:Menlo,'DejaVu Sans Mono',consolas,'Courier New',monospace\"><span style=\"font-weight: bold\"> Total params: </span><span style=\"color: #00af00; text-decoration-color: #00af00\">1,627,026</span> (6.21 MB)\n",
              "</pre>\n"
            ]
          },
          "metadata": {}
        },
        {
          "output_type": "display_data",
          "data": {
            "text/plain": [
              "\u001b[1m Trainable params: \u001b[0m\u001b[38;5;34m370,708\u001b[0m (1.41 MB)\n"
            ],
            "text/html": [
              "<pre style=\"white-space:pre;overflow-x:auto;line-height:normal;font-family:Menlo,'DejaVu Sans Mono',consolas,'Courier New',monospace\"><span style=\"font-weight: bold\"> Trainable params: </span><span style=\"color: #00af00; text-decoration-color: #00af00\">370,708</span> (1.41 MB)\n",
              "</pre>\n"
            ]
          },
          "metadata": {}
        },
        {
          "output_type": "display_data",
          "data": {
            "text/plain": [
              "\u001b[1m Non-trainable params: \u001b[0m\u001b[38;5;34m514,900\u001b[0m (1.96 MB)\n"
            ],
            "text/html": [
              "<pre style=\"white-space:pre;overflow-x:auto;line-height:normal;font-family:Menlo,'DejaVu Sans Mono',consolas,'Courier New',monospace\"><span style=\"font-weight: bold\"> Non-trainable params: </span><span style=\"color: #00af00; text-decoration-color: #00af00\">514,900</span> (1.96 MB)\n",
              "</pre>\n"
            ]
          },
          "metadata": {}
        },
        {
          "output_type": "display_data",
          "data": {
            "text/plain": [
              "\u001b[1m Optimizer params: \u001b[0m\u001b[38;5;34m741,418\u001b[0m (2.83 MB)\n"
            ],
            "text/html": [
              "<pre style=\"white-space:pre;overflow-x:auto;line-height:normal;font-family:Menlo,'DejaVu Sans Mono',consolas,'Courier New',monospace\"><span style=\"font-weight: bold\"> Optimizer params: </span><span style=\"color: #00af00; text-decoration-color: #00af00\">741,418</span> (2.83 MB)\n",
              "</pre>\n"
            ]
          },
          "metadata": {}
        },
        {
          "output_type": "stream",
          "name": "stdout",
          "text": [
            "Epoch 1/20\n",
            "\u001b[1m11/11\u001b[0m \u001b[32m━━━━━━━━━━━━━━━━━━━━\u001b[0m\u001b[37m\u001b[0m \u001b[1m20s\u001b[0m 2s/step - accuracy: 0.4036 - loss: 0.2516 - val_accuracy: 0.2400 - val_loss: 0.2894 - learning_rate: 0.0010\n",
            "Epoch 2/20\n",
            "\u001b[1m11/11\u001b[0m \u001b[32m━━━━━━━━━━━━━━━━━━━━\u001b[0m\u001b[37m\u001b[0m \u001b[1m17s\u001b[0m 1s/step - accuracy: 0.3747 - loss: 0.2547 - val_accuracy: 0.2200 - val_loss: 0.2875 - learning_rate: 0.0010\n",
            "Epoch 3/20\n",
            "\u001b[1m11/11\u001b[0m \u001b[32m━━━━━━━━━━━━━━━━━━━━\u001b[0m\u001b[37m\u001b[0m \u001b[1m21s\u001b[0m 1s/step - accuracy: 0.4088 - loss: 0.2505 - val_accuracy: 0.2400 - val_loss: 0.2875 - learning_rate: 0.0010\n",
            "Epoch 4/20\n",
            "\u001b[1m11/11\u001b[0m \u001b[32m━━━━━━━━━━━━━━━━━━━━\u001b[0m\u001b[37m\u001b[0m \u001b[1m21s\u001b[0m 1s/step - accuracy: 0.4056 - loss: 0.2469 - val_accuracy: 0.2400 - val_loss: 0.2866 - learning_rate: 0.0010\n",
            "Epoch 5/20\n",
            "\u001b[1m11/11\u001b[0m \u001b[32m━━━━━━━━━━━━━━━━━━━━\u001b[0m\u001b[37m\u001b[0m \u001b[1m21s\u001b[0m 1s/step - accuracy: 0.4100 - loss: 0.2466 - val_accuracy: 0.2500 - val_loss: 0.2872 - learning_rate: 0.0010\n",
            "Epoch 6/20\n",
            "\u001b[1m11/11\u001b[0m \u001b[32m━━━━━━━━━━━━━━━━━━━━\u001b[0m\u001b[37m\u001b[0m \u001b[1m21s\u001b[0m 2s/step - accuracy: 0.4072 - loss: 0.2468 - val_accuracy: 0.2300 - val_loss: 0.2864 - learning_rate: 0.0010\n",
            "Epoch 7/20\n",
            "\u001b[1m11/11\u001b[0m \u001b[32m━━━━━━━━━━━━━━━━━━━━\u001b[0m\u001b[37m\u001b[0m \u001b[1m21s\u001b[0m 2s/step - accuracy: 0.3791 - loss: 0.2474 - val_accuracy: 0.2000 - val_loss: 0.2925 - learning_rate: 0.0010\n",
            "Epoch 8/20\n",
            "\u001b[1m11/11\u001b[0m \u001b[32m━━━━━━━━━━━━━━━━━━━━\u001b[0m\u001b[37m\u001b[0m \u001b[1m22s\u001b[0m 2s/step - accuracy: 0.4338 - loss: 0.2388 - val_accuracy: 0.2400 - val_loss: 0.2839 - learning_rate: 0.0010\n",
            "Epoch 9/20\n",
            "\u001b[1m11/11\u001b[0m \u001b[32m━━━━━━━━━━━━━━━━━━━━\u001b[0m\u001b[37m\u001b[0m \u001b[1m21s\u001b[0m 2s/step - accuracy: 0.4070 - loss: 0.2427 - val_accuracy: 0.2200 - val_loss: 0.2860 - learning_rate: 0.0010\n",
            "Epoch 10/20\n",
            "\u001b[1m11/11\u001b[0m \u001b[32m━━━━━━━━━━━━━━━━━━━━\u001b[0m\u001b[37m\u001b[0m \u001b[1m17s\u001b[0m 2s/step - accuracy: 0.3522 - loss: 0.2366 - val_accuracy: 0.2500 - val_loss: 0.2861 - learning_rate: 0.0010\n",
            "Epoch 11/20\n",
            "\u001b[1m11/11\u001b[0m \u001b[32m━━━━━━━━━━━━━━━━━━━━\u001b[0m\u001b[37m\u001b[0m \u001b[1m20s\u001b[0m 1s/step - accuracy: 0.4079 - loss: 0.2403 - val_accuracy: 0.2600 - val_loss: 0.2845 - learning_rate: 0.0010\n",
            "Epoch 12/20\n",
            "\u001b[1m11/11\u001b[0m \u001b[32m━━━━━━━━━━━━━━━━━━━━\u001b[0m\u001b[37m\u001b[0m \u001b[1m20s\u001b[0m 1s/step - accuracy: 0.4243 - loss: 0.2332 - val_accuracy: 0.2600 - val_loss: 0.2825 - learning_rate: 0.0010\n",
            "Epoch 13/20\n",
            "\u001b[1m11/11\u001b[0m \u001b[32m━━━━━━━━━━━━━━━━━━━━\u001b[0m\u001b[37m\u001b[0m \u001b[1m19s\u001b[0m 2s/step - accuracy: 0.4598 - loss: 0.2335 - val_accuracy: 0.2500 - val_loss: 0.2819 - learning_rate: 0.0010\n",
            "Epoch 14/20\n",
            "\u001b[1m11/11\u001b[0m \u001b[32m━━━━━━━━━━━━━━━━━━━━\u001b[0m\u001b[37m\u001b[0m \u001b[1m21s\u001b[0m 2s/step - accuracy: 0.4357 - loss: 0.2278 - val_accuracy: 0.2700 - val_loss: 0.2854 - learning_rate: 0.0010\n",
            "Epoch 15/20\n",
            "\u001b[1m11/11\u001b[0m \u001b[32m━━━━━━━━━━━━━━━━━━━━\u001b[0m\u001b[37m\u001b[0m \u001b[1m20s\u001b[0m 2s/step - accuracy: 0.4562 - loss: 0.2303 - val_accuracy: 0.2600 - val_loss: 0.2794 - learning_rate: 0.0010\n",
            "Epoch 16/20\n",
            "\u001b[1m11/11\u001b[0m \u001b[32m━━━━━━━━━━━━━━━━━━━━\u001b[0m\u001b[37m\u001b[0m \u001b[1m17s\u001b[0m 1s/step - accuracy: 0.4299 - loss: 0.2272 - val_accuracy: 0.2600 - val_loss: 0.2840 - learning_rate: 0.0010\n",
            "Epoch 17/20\n",
            "\u001b[1m11/11\u001b[0m \u001b[32m━━━━━━━━━━━━━━━━━━━━\u001b[0m\u001b[37m\u001b[0m \u001b[1m20s\u001b[0m 1s/step - accuracy: 0.4214 - loss: 0.2276 - val_accuracy: 0.2400 - val_loss: 0.2789 - learning_rate: 0.0010\n",
            "Epoch 18/20\n",
            "\u001b[1m11/11\u001b[0m \u001b[32m━━━━━━━━━━━━━━━━━━━━\u001b[0m\u001b[37m\u001b[0m \u001b[1m20s\u001b[0m 1s/step - accuracy: 0.4225 - loss: 0.2246 - val_accuracy: 0.2800 - val_loss: 0.2830 - learning_rate: 0.0010\n",
            "Epoch 19/20\n",
            "\u001b[1m11/11\u001b[0m \u001b[32m━━━━━━━━━━━━━━━━━━━━\u001b[0m\u001b[37m\u001b[0m \u001b[1m21s\u001b[0m 1s/step - accuracy: 0.4521 - loss: 0.2332 - val_accuracy: 0.2500 - val_loss: 0.2856 - learning_rate: 0.0010\n",
            "Epoch 20/20\n",
            "\u001b[1m11/11\u001b[0m \u001b[32m━━━━━━━━━━━━━━━━━━━━\u001b[0m\u001b[37m\u001b[0m \u001b[1m21s\u001b[0m 1s/step - accuracy: 0.4064 - loss: 0.2246 - val_accuracy: 0.2600 - val_loss: 0.2782 - learning_rate: 0.0010\n",
            "\u001b[1m7/7\u001b[0m \u001b[32m━━━━━━━━━━━━━━━━━━━━\u001b[0m\u001b[37m\u001b[0m \u001b[1m3s\u001b[0m 394ms/step - accuracy: 0.2803 - loss: 0.2840\n",
            "0.3149999976158142 0.27997025847435\n",
            "\u001b[1m7/7\u001b[0m \u001b[32m━━━━━━━━━━━━━━━━━━━━\u001b[0m\u001b[37m\u001b[0m \u001b[1m2s\u001b[0m 238ms/step\n",
            "\n",
            "\n",
            "Precision: 0.5842696629213483\n",
            "Recall: 0.3170731707317073\n",
            "F1 Score: 0.41106719367588934\n",
            "Movie: Guardians of the Galaxy\n",
            "Actual genres: Action, Adventure, Sci-Fi\n",
            "Predicted genres: Action, Adventure, Sci-Fi\n",
            "\n",
            "Movie: Prometheus\n",
            "Actual genres: Adventure, Mystery, Sci-Fi\n",
            "Predicted genres: Drama\n",
            "\n",
            "Movie: Split\n",
            "Actual genres: Horror, Thriller\n",
            "Predicted genres: Action, Adventure\n",
            "\n",
            "Movie: Sing\n",
            "Actual genres: Animation, Comedy, Family\n",
            "Predicted genres: Action, Crime, Drama\n",
            "\n",
            "Movie: Suicide Squad\n",
            "Actual genres: Action, Adventure, Fantasy\n",
            "Predicted genres: \n",
            "\n"
          ]
        }
      ]
    },
    {
      "cell_type": "code",
      "source": [
        "print(f'\\nTest Accuracy: {test_accuracy}\\nTest Loss: {test_loss}')\n",
        "print(f\"Precision: {precision}\")\n",
        "print(f\"Recall: {recall}\")\n",
        "print(f\"F1 Score: {f1}\\n\\n\")\n",
        "\n",
        "misclassified = np.where(np.any(Y_test != y_pred_classes, axis=1))[0]\n",
        "\n",
        "# Analyze misclassified instances and suggest improvements\n",
        "for idx in misclassified[:5]:\n",
        "    print(f\"Movie: {data['Title'][idx]}\")\n",
        "    print(f\"Actual genres: {', '.join(data['Genre'][idx])}\")\n",
        "    print(f\"Predicted genres: {', '.join(mlb.classes_[y_pred_classes[idx] == 1])}\")\n",
        "    print()"
      ],
      "metadata": {
        "colab": {
          "base_uri": "https://localhost:8080/"
        },
        "id": "17P0o9LcZf0T",
        "outputId": "df594185-7e35-4f2a-b04b-82fecb30011f"
      },
      "execution_count": 39,
      "outputs": [
        {
          "output_type": "stream",
          "name": "stdout",
          "text": [
            "\n",
            "Test Accuracy: 0.3149999976158142\n",
            "Test Loss: 0.27997025847435\n",
            "Precision: 0.5842696629213483\n",
            "Recall: 0.3170731707317073\n",
            "F1 Score: 0.41106719367588934\n",
            "\n",
            "\n",
            "Movie: Guardians of the Galaxy\n",
            "Actual genres: Action, Adventure, Sci-Fi\n",
            "Predicted genres: Action, Adventure, Sci-Fi\n",
            "\n",
            "Movie: Prometheus\n",
            "Actual genres: Adventure, Mystery, Sci-Fi\n",
            "Predicted genres: Drama\n",
            "\n",
            "Movie: Split\n",
            "Actual genres: Horror, Thriller\n",
            "Predicted genres: Action, Adventure\n",
            "\n",
            "Movie: Sing\n",
            "Actual genres: Animation, Comedy, Family\n",
            "Predicted genres: Action, Crime, Drama\n",
            "\n",
            "Movie: Suicide Squad\n",
            "Actual genres: Action, Adventure, Fantasy\n",
            "Predicted genres: \n",
            "\n"
          ]
        }
      ]
    },
    {
      "cell_type": "code",
      "source": [
        "plt.figure(figsize=(12,4))\n",
        "plt.subplot(1, 2, 1)\n",
        "plt.plot(history2.history['accuracy'], label = 'Train Accuracy')\n",
        "plt.plot(history2.history['val_accuracy'], label = 'Validation Accuracy')\n",
        "plt.title('Model Accuracy')\n",
        "plt.ylabel('Accuracy')\n",
        "plt.xlabel('Epoch')\n",
        "plt.legend(loc = 'upper left')\n",
        "\n",
        "plt.show()\n",
        "plt.subplot(1, 2, 1)\n",
        "plt.plot(history2.history['loss'], label = 'Train Loss')\n",
        "plt.plot(history2.history['val_loss'], label = 'Validation Loss')\n",
        "plt.title('Model Loss')\n",
        "plt.ylabel('Loss')\n",
        "plt.xlabel('Epoch')\n",
        "plt.legend(loc='upper left')\n",
        "\n",
        "plt.show()"
      ],
      "metadata": {
        "colab": {
          "base_uri": "https://localhost:8080/",
          "height": 865
        },
        "id": "QbZ1a8hRODRy",
        "outputId": "e8b64482-dda5-445e-bf75-c8981929d92e"
      },
      "execution_count": 36,
      "outputs": [
        {
          "output_type": "display_data",
          "data": {
            "text/plain": [
              "<Figure size 1200x400 with 1 Axes>"
            ],
            "image/png": "[encoded data removed]"
          },
          "metadata": {}
        },
        {
          "output_type": "display_data",
          "data": {
            "text/plain": [
              "<Figure size 640x480 with 1 Axes>"
            ],
            "image/png": "[encoded data removed]"
          },
          "metadata": {}
        }
      ]
    },
    {
      "cell_type": "markdown",
      "source": [],
      "metadata": {
        "id": "fyF_vA2vNbxU"
      }
    }
  ],
  "metadata": {
    "colab": {
      "provenance": []
    },
    "kernelspec": {
      "display_name": "Python 3",
      "name": "python3"
    },
    "language_info": {
      "name": "python"
    }
  },
  "nbformat": 4,
  "nbformat_minor": 0
}